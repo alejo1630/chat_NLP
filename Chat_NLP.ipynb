{
 "cells": [
  {
   "cell_type": "code",
   "execution_count": 15,
   "id": "f8f21a30-97a2-4a2b-93c8-5be6abc36114",
   "metadata": {
    "colab": {
     "base_uri": "https://localhost:8080/"
    },
    "executionInfo": {
     "elapsed": 1294,
     "status": "ok",
     "timestamp": 1753393232163,
     "user": {
      "displayName": "Alejandro Castellanos Vargas",
      "userId": "01884862752897243988"
     },
     "user_tz": 300
    },
    "id": "f8f21a30-97a2-4a2b-93c8-5be6abc36114",
    "outputId": "2d38f663-85dd-4269-d95d-8de7638432fb"
   },
   "outputs": [
    {
     "name": "stdout",
     "output_type": "stream",
     "text": [
      "Drive already mounted at /content/drive; to attempt to forcibly remount, call drive.mount(\"/content/drive\", force_remount=True).\n"
     ]
    }
   ],
   "source": [
    "import re\n",
    "import pandas as pd\n",
    "import numpy as np\n",
    "from datetime import datetime\n",
    "from google.colab import drive\n",
    "\n",
    "import tensorflow as tf\n",
    "from tensorflow.keras.preprocessing.text import Tokenizer\n",
    "from tensorflow.keras.preprocessing.sequence import pad_sequences\n",
    "from tensorflow.keras.layers import Input, Embedding, LSTM, Dense\n",
    "from tensorflow.keras.models import Model\n",
    "\n",
    "from sklearn.model_selection import train_test_split\n",
    "\n",
    "drive.mount(\"/content/drive\")"
   ]
  },
  {
   "cell_type": "code",
   "execution_count": 2,
   "id": "1fee574e-4bab-4371-8536-97892dca8398",
   "metadata": {
    "colab": {
     "base_uri": "https://localhost:8080/",
     "height": 206
    },
    "executionInfo": {
     "elapsed": 3150,
     "status": "ok",
     "timestamp": 1753389277669,
     "user": {
      "displayName": "Alejandro Castellanos Vargas",
      "userId": "01884862752897243988"
     },
     "user_tz": 300
    },
    "id": "1fee574e-4bab-4371-8536-97892dca8398",
    "outputId": "a9f81c8c-c9ad-4552-cb68-23be487bb016"
   },
   "outputs": [
    {
     "data": {
      "application/vnd.google.colaboratory.intrinsic+json": {
       "type": "dataframe",
       "variable_name": "parsed_df"
      },
      "text/html": [
       "\n",
       "  <div id=\"df-024fcf0c-2f38-416a-b841-91aa8420f6b5\" class=\"colab-df-container\">\n",
       "    <div>\n",
       "<style scoped>\n",
       "    .dataframe tbody tr th:only-of-type {\n",
       "        vertical-align: middle;\n",
       "    }\n",
       "\n",
       "    .dataframe tbody tr th {\n",
       "        vertical-align: top;\n",
       "    }\n",
       "\n",
       "    .dataframe thead th {\n",
       "        text-align: right;\n",
       "    }\n",
       "</style>\n",
       "<table border=\"1\" class=\"dataframe\">\n",
       "  <thead>\n",
       "    <tr style=\"text-align: right;\">\n",
       "      <th></th>\n",
       "      <th>date</th>\n",
       "      <th>user</th>\n",
       "      <th>message</th>\n",
       "    </tr>\n",
       "  </thead>\n",
       "  <tbody>\n",
       "    <tr>\n",
       "      <th>0</th>\n",
       "      <td>2017-06-26 17:19:00</td>\n",
       "      <td>Linda Roldán</td>\n",
       "      <td>Hoola</td>\n",
       "    </tr>\n",
       "    <tr>\n",
       "      <th>1</th>\n",
       "      <td>2017-06-26 17:19:00</td>\n",
       "      <td>Linda Roldán</td>\n",
       "      <td>Bebe</td>\n",
       "    </tr>\n",
       "    <tr>\n",
       "      <th>2</th>\n",
       "      <td>2017-06-26 17:46:00</td>\n",
       "      <td>Alejandro Castellanos</td>\n",
       "      <td>Hola chiquita</td>\n",
       "    </tr>\n",
       "    <tr>\n",
       "      <th>3</th>\n",
       "      <td>2017-06-26 17:46:00</td>\n",
       "      <td>Alejandro Castellanos</td>\n",
       "      <td>Y este número¿</td>\n",
       "    </tr>\n",
       "    <tr>\n",
       "      <th>4</th>\n",
       "      <td>2017-06-26 17:54:00</td>\n",
       "      <td>Linda Roldán</td>\n",
       "      <td>Este es mi numero anterior</td>\n",
       "    </tr>\n",
       "  </tbody>\n",
       "</table>\n",
       "</div>\n",
       "    <div class=\"colab-df-buttons\">\n",
       "\n",
       "  <div class=\"colab-df-container\">\n",
       "    <button class=\"colab-df-convert\" onclick=\"convertToInteractive('df-024fcf0c-2f38-416a-b841-91aa8420f6b5')\"\n",
       "            title=\"Convert this dataframe to an interactive table.\"\n",
       "            style=\"display:none;\">\n",
       "\n",
       "  <svg xmlns=\"http://www.w3.org/2000/svg\" height=\"24px\" viewBox=\"0 -960 960 960\">\n",
       "    <path d=\"M120-120v-720h720v720H120Zm60-500h600v-160H180v160Zm220 220h160v-160H400v160Zm0 220h160v-160H400v160ZM180-400h160v-160H180v160Zm440 0h160v-160H620v160ZM180-180h160v-160H180v160Zm440 0h160v-160H620v160Z\"/>\n",
       "  </svg>\n",
       "    </button>\n",
       "\n",
       "  <style>\n",
       "    .colab-df-container {\n",
       "      display:flex;\n",
       "      gap: 12px;\n",
       "    }\n",
       "\n",
       "    .colab-df-convert {\n",
       "      background-color: #E8F0FE;\n",
       "      border: none;\n",
       "      border-radius: 50%;\n",
       "      cursor: pointer;\n",
       "      display: none;\n",
       "      fill: #1967D2;\n",
       "      height: 32px;\n",
       "      padding: 0 0 0 0;\n",
       "      width: 32px;\n",
       "    }\n",
       "\n",
       "    .colab-df-convert:hover {\n",
       "      background-color: #E2EBFA;\n",
       "      box-shadow: 0px 1px 2px rgba(60, 64, 67, 0.3), 0px 1px 3px 1px rgba(60, 64, 67, 0.15);\n",
       "      fill: #174EA6;\n",
       "    }\n",
       "\n",
       "    .colab-df-buttons div {\n",
       "      margin-bottom: 4px;\n",
       "    }\n",
       "\n",
       "    [theme=dark] .colab-df-convert {\n",
       "      background-color: #3B4455;\n",
       "      fill: #D2E3FC;\n",
       "    }\n",
       "\n",
       "    [theme=dark] .colab-df-convert:hover {\n",
       "      background-color: #434B5C;\n",
       "      box-shadow: 0px 1px 3px 1px rgba(0, 0, 0, 0.15);\n",
       "      filter: drop-shadow(0px 1px 2px rgba(0, 0, 0, 0.3));\n",
       "      fill: #FFFFFF;\n",
       "    }\n",
       "  </style>\n",
       "\n",
       "    <script>\n",
       "      const buttonEl =\n",
       "        document.querySelector('#df-024fcf0c-2f38-416a-b841-91aa8420f6b5 button.colab-df-convert');\n",
       "      buttonEl.style.display =\n",
       "        google.colab.kernel.accessAllowed ? 'block' : 'none';\n",
       "\n",
       "      async function convertToInteractive(key) {\n",
       "        const element = document.querySelector('#df-024fcf0c-2f38-416a-b841-91aa8420f6b5');\n",
       "        const dataTable =\n",
       "          await google.colab.kernel.invokeFunction('convertToInteractive',\n",
       "                                                    [key], {});\n",
       "        if (!dataTable) return;\n",
       "\n",
       "        const docLinkHtml = 'Like what you see? Visit the ' +\n",
       "          '<a target=\"_blank\" href=https://colab.research.google.com/notebooks/data_table.ipynb>data table notebook</a>'\n",
       "          + ' to learn more about interactive tables.';\n",
       "        element.innerHTML = '';\n",
       "        dataTable['output_type'] = 'display_data';\n",
       "        await google.colab.output.renderOutput(dataTable, element);\n",
       "        const docLink = document.createElement('div');\n",
       "        docLink.innerHTML = docLinkHtml;\n",
       "        element.appendChild(docLink);\n",
       "      }\n",
       "    </script>\n",
       "  </div>\n",
       "\n",
       "\n",
       "    <div id=\"df-4912cbc1-f3a1-401d-9e6f-71eaee4dfc2d\">\n",
       "      <button class=\"colab-df-quickchart\" onclick=\"quickchart('df-4912cbc1-f3a1-401d-9e6f-71eaee4dfc2d')\"\n",
       "                title=\"Suggest charts\"\n",
       "                style=\"display:none;\">\n",
       "\n",
       "<svg xmlns=\"http://www.w3.org/2000/svg\" height=\"24px\"viewBox=\"0 0 24 24\"\n",
       "     width=\"24px\">\n",
       "    <g>\n",
       "        <path d=\"M19 3H5c-1.1 0-2 .9-2 2v14c0 1.1.9 2 2 2h14c1.1 0 2-.9 2-2V5c0-1.1-.9-2-2-2zM9 17H7v-7h2v7zm4 0h-2V7h2v10zm4 0h-2v-4h2v4z\"/>\n",
       "    </g>\n",
       "</svg>\n",
       "      </button>\n",
       "\n",
       "<style>\n",
       "  .colab-df-quickchart {\n",
       "      --bg-color: #E8F0FE;\n",
       "      --fill-color: #1967D2;\n",
       "      --hover-bg-color: #E2EBFA;\n",
       "      --hover-fill-color: #174EA6;\n",
       "      --disabled-fill-color: #AAA;\n",
       "      --disabled-bg-color: #DDD;\n",
       "  }\n",
       "\n",
       "  [theme=dark] .colab-df-quickchart {\n",
       "      --bg-color: #3B4455;\n",
       "      --fill-color: #D2E3FC;\n",
       "      --hover-bg-color: #434B5C;\n",
       "      --hover-fill-color: #FFFFFF;\n",
       "      --disabled-bg-color: #3B4455;\n",
       "      --disabled-fill-color: #666;\n",
       "  }\n",
       "\n",
       "  .colab-df-quickchart {\n",
       "    background-color: var(--bg-color);\n",
       "    border: none;\n",
       "    border-radius: 50%;\n",
       "    cursor: pointer;\n",
       "    display: none;\n",
       "    fill: var(--fill-color);\n",
       "    height: 32px;\n",
       "    padding: 0;\n",
       "    width: 32px;\n",
       "  }\n",
       "\n",
       "  .colab-df-quickchart:hover {\n",
       "    background-color: var(--hover-bg-color);\n",
       "    box-shadow: 0 1px 2px rgba(60, 64, 67, 0.3), 0 1px 3px 1px rgba(60, 64, 67, 0.15);\n",
       "    fill: var(--button-hover-fill-color);\n",
       "  }\n",
       "\n",
       "  .colab-df-quickchart-complete:disabled,\n",
       "  .colab-df-quickchart-complete:disabled:hover {\n",
       "    background-color: var(--disabled-bg-color);\n",
       "    fill: var(--disabled-fill-color);\n",
       "    box-shadow: none;\n",
       "  }\n",
       "\n",
       "  .colab-df-spinner {\n",
       "    border: 2px solid var(--fill-color);\n",
       "    border-color: transparent;\n",
       "    border-bottom-color: var(--fill-color);\n",
       "    animation:\n",
       "      spin 1s steps(1) infinite;\n",
       "  }\n",
       "\n",
       "  @keyframes spin {\n",
       "    0% {\n",
       "      border-color: transparent;\n",
       "      border-bottom-color: var(--fill-color);\n",
       "      border-left-color: var(--fill-color);\n",
       "    }\n",
       "    20% {\n",
       "      border-color: transparent;\n",
       "      border-left-color: var(--fill-color);\n",
       "      border-top-color: var(--fill-color);\n",
       "    }\n",
       "    30% {\n",
       "      border-color: transparent;\n",
       "      border-left-color: var(--fill-color);\n",
       "      border-top-color: var(--fill-color);\n",
       "      border-right-color: var(--fill-color);\n",
       "    }\n",
       "    40% {\n",
       "      border-color: transparent;\n",
       "      border-right-color: var(--fill-color);\n",
       "      border-top-color: var(--fill-color);\n",
       "    }\n",
       "    60% {\n",
       "      border-color: transparent;\n",
       "      border-right-color: var(--fill-color);\n",
       "    }\n",
       "    80% {\n",
       "      border-color: transparent;\n",
       "      border-right-color: var(--fill-color);\n",
       "      border-bottom-color: var(--fill-color);\n",
       "    }\n",
       "    90% {\n",
       "      border-color: transparent;\n",
       "      border-bottom-color: var(--fill-color);\n",
       "    }\n",
       "  }\n",
       "</style>\n",
       "\n",
       "      <script>\n",
       "        async function quickchart(key) {\n",
       "          const quickchartButtonEl =\n",
       "            document.querySelector('#' + key + ' button');\n",
       "          quickchartButtonEl.disabled = true;  // To prevent multiple clicks.\n",
       "          quickchartButtonEl.classList.add('colab-df-spinner');\n",
       "          try {\n",
       "            const charts = await google.colab.kernel.invokeFunction(\n",
       "                'suggestCharts', [key], {});\n",
       "          } catch (error) {\n",
       "            console.error('Error during call to suggestCharts:', error);\n",
       "          }\n",
       "          quickchartButtonEl.classList.remove('colab-df-spinner');\n",
       "          quickchartButtonEl.classList.add('colab-df-quickchart-complete');\n",
       "        }\n",
       "        (() => {\n",
       "          let quickchartButtonEl =\n",
       "            document.querySelector('#df-4912cbc1-f3a1-401d-9e6f-71eaee4dfc2d button');\n",
       "          quickchartButtonEl.style.display =\n",
       "            google.colab.kernel.accessAllowed ? 'block' : 'none';\n",
       "        })();\n",
       "      </script>\n",
       "    </div>\n",
       "\n",
       "    </div>\n",
       "  </div>\n"
      ],
      "text/plain": [
       "                 date                   user                     message\n",
       "0 2017-06-26 17:19:00           Linda Roldán                       Hoola\n",
       "1 2017-06-26 17:19:00           Linda Roldán                        Bebe\n",
       "2 2017-06-26 17:46:00  Alejandro Castellanos               Hola chiquita\n",
       "3 2017-06-26 17:46:00  Alejandro Castellanos              Y este número¿\n",
       "4 2017-06-26 17:54:00           Linda Roldán  Este es mi numero anterior"
      ]
     },
     "execution_count": 2,
     "metadata": {},
     "output_type": "execute_result"
    }
   ],
   "source": [
    "# Path to WhatsApp chat\n",
    "file_path = \"/content/drive/MyDrive/Github/chat_NLP/Dataset/Chat.txt\"\n",
    "\n",
    "# Read all lines\n",
    "with open(file_path, encoding=\"utf-8\") as f:\n",
    "    lines = f.read().splitlines()\n",
    "\n",
    "# Pattern for the start of a WhatsApp message\n",
    "message_pattern = re.compile(\n",
    "    r'^(\\d{1,2}/\\d{1,2}/\\d{2,4}),\\s'        # date (e.g. 6/26/17),\n",
    "    r'(\\d{1,2}:\\d{2}\\s[AP]M)\\s-\\s'           # time (e.g. 5:19 PM) -\n",
    "    r'([^:]+):\\s'                            # user name (anything up to the colon)\n",
    "    r'(.*)$'                                 # the actual message\n",
    ")\n",
    "\n",
    "records = []\n",
    "current = None\n",
    "\n",
    "for line in lines:\n",
    "    m = message_pattern.match(line)\n",
    "    if m:\n",
    "        # Start a new record\n",
    "        date_str, time_str, user, text = m.groups()\n",
    "        timestamp = datetime.strptime(f\"{date_str} {time_str}\", \"%m/%d/%y %I:%M %p\")\n",
    "        current = {\"date\": timestamp, \"user\": user, \"message\": text}\n",
    "        records.append(current)\n",
    "    else:\n",
    "        # Continuation of the previous message\n",
    "        if current:\n",
    "            current[\"message\"] += \"\\n\" + line\n",
    "\n",
    "# Build DataFrame\n",
    "parsed_df = pd.DataFrame(records)\n",
    "\n",
    "\n",
    "# # Deleted Messages\n",
    "parsed_df = parsed_df[~parsed_df[\"message\"].str.contains(\"This message was deleted\")]\n",
    "\n",
    "# Delete all rows with \"Media omitted\" Message\n",
    "parsed_df = parsed_df[~parsed_df[\"message\"].str.contains(\"Media omitted\")]\n",
    "\n",
    "# Quick check\n",
    "parsed_df.head()\n"
   ]
  },
  {
   "cell_type": "code",
   "execution_count": 3,
   "id": "bfb9411e-a5d5-4837-a25e-8c7d8e9d0a44",
   "metadata": {
    "colab": {
     "base_uri": "https://localhost:8080/"
    },
    "executionInfo": {
     "elapsed": 13,
     "status": "ok",
     "timestamp": 1753389277686,
     "user": {
      "displayName": "Alejandro Castellanos Vargas",
      "userId": "01884862752897243988"
     },
     "user_tz": 300
    },
    "id": "bfb9411e-a5d5-4837-a25e-8c7d8e9d0a44",
    "outputId": "4d451fe3-c908-4dc9-9f96-ed7f692dac16"
   },
   "outputs": [
    {
     "data": {
      "text/plain": [
       "(203094, 3)"
      ]
     },
     "execution_count": 3,
     "metadata": {},
     "output_type": "execute_result"
    }
   ],
   "source": [
    "parsed_df.shape"
   ]
  },
  {
   "cell_type": "code",
   "execution_count": 4,
   "id": "wej79avz93b5",
   "metadata": {
    "colab": {
     "base_uri": "https://localhost:8080/",
     "height": 178
    },
    "executionInfo": {
     "elapsed": 10,
     "status": "ok",
     "timestamp": 1753389277755,
     "user": {
      "displayName": "Alejandro Castellanos Vargas",
      "userId": "01884862752897243988"
     },
     "user_tz": 300
    },
    "id": "wej79avz93b5",
    "outputId": "799defdd-35f7-484d-b47d-5993fe9a23da"
   },
   "outputs": [
    {
     "data": {
      "text/html": [
       "<div>\n",
       "<style scoped>\n",
       "    .dataframe tbody tr th:only-of-type {\n",
       "        vertical-align: middle;\n",
       "    }\n",
       "\n",
       "    .dataframe tbody tr th {\n",
       "        vertical-align: top;\n",
       "    }\n",
       "\n",
       "    .dataframe thead th {\n",
       "        text-align: right;\n",
       "    }\n",
       "</style>\n",
       "<table border=\"1\" class=\"dataframe\">\n",
       "  <thead>\n",
       "    <tr style=\"text-align: right;\">\n",
       "      <th></th>\n",
       "      <th>count</th>\n",
       "    </tr>\n",
       "    <tr>\n",
       "      <th>user</th>\n",
       "      <th></th>\n",
       "    </tr>\n",
       "  </thead>\n",
       "  <tbody>\n",
       "    <tr>\n",
       "      <th>Linda Roldán</th>\n",
       "      <td>116973</td>\n",
       "    </tr>\n",
       "    <tr>\n",
       "      <th>Alejandro Castellanos</th>\n",
       "      <td>86121</td>\n",
       "    </tr>\n",
       "  </tbody>\n",
       "</table>\n",
       "</div><br><label><b>dtype:</b> int64</label>"
      ],
      "text/plain": [
       "user\n",
       "Linda Roldán             116973\n",
       "Alejandro Castellanos     86121\n",
       "Name: count, dtype: int64"
      ]
     },
     "execution_count": 4,
     "metadata": {},
     "output_type": "execute_result"
    }
   ],
   "source": [
    "parsed_df[\"user\"].value_counts()"
   ]
  },
  {
   "cell_type": "code",
   "execution_count": 5,
   "id": "6HejjCAE985y",
   "metadata": {
    "colab": {
     "base_uri": "https://localhost:8080/",
     "height": 206
    },
    "executionInfo": {
     "elapsed": 2180,
     "status": "ok",
     "timestamp": 1753389279938,
     "user": {
      "displayName": "Alejandro Castellanos Vargas",
      "userId": "01884862752897243988"
     },
     "user_tz": 300
    },
    "id": "6HejjCAE985y",
    "outputId": "36dad87b-824f-4721-a186-06be27de7bdc"
   },
   "outputs": [
    {
     "data": {
      "application/vnd.google.colaboratory.intrinsic+json": {
       "summary": "{\n  \"name\": \"pairs_df\",\n  \"rows\": 50727,\n  \"fields\": [\n    {\n      \"column\": \"input_text\",\n      \"properties\": {\n        \"dtype\": \"string\",\n        \"num_unique_values\": 43129,\n        \"samples\": [\n          \"Eso no lo vayas hacer\",\n          \"Sii Cual semana\",\n          \"Jiji bueno\"\n        ],\n        \"semantic_type\": \"\",\n        \"description\": \"\"\n      }\n    },\n    {\n      \"column\": \"target_text\",\n      \"properties\": {\n        \"dtype\": \"string\",\n        \"num_unique_values\": 43429,\n        \"samples\": [\n          \"\\ud83d\\ude10 Y al fin qu\\u00e9 pas\\u00f3 con tu hermana?\",\n          \"Haciendo la planeaci\\u00f3n... Prendida\",\n          \"Bueno en el puente :p\"\n        ],\n        \"semantic_type\": \"\",\n        \"description\": \"\"\n      }\n    }\n  ]\n}",
       "type": "dataframe",
       "variable_name": "pairs_df"
      },
      "text/html": [
       "\n",
       "  <div id=\"df-79f0a4ab-77e9-46b9-ae06-43e88dd1cfd7\" class=\"colab-df-container\">\n",
       "    <div>\n",
       "<style scoped>\n",
       "    .dataframe tbody tr th:only-of-type {\n",
       "        vertical-align: middle;\n",
       "    }\n",
       "\n",
       "    .dataframe tbody tr th {\n",
       "        vertical-align: top;\n",
       "    }\n",
       "\n",
       "    .dataframe thead th {\n",
       "        text-align: right;\n",
       "    }\n",
       "</style>\n",
       "<table border=\"1\" class=\"dataframe\">\n",
       "  <thead>\n",
       "    <tr style=\"text-align: right;\">\n",
       "      <th></th>\n",
       "      <th>input_text</th>\n",
       "      <th>target_text</th>\n",
       "    </tr>\n",
       "  </thead>\n",
       "  <tbody>\n",
       "    <tr>\n",
       "      <th>0</th>\n",
       "      <td>Hoola Bebe</td>\n",
       "      <td>Hola chiquita Y este número¿</td>\n",
       "    </tr>\n",
       "    <tr>\n",
       "      <th>1</th>\n",
       "      <td>Este es mi numero anterior</td>\n",
       "      <td>A síii, y que cel tienes?</td>\n",
       "    </tr>\n",
       "    <tr>\n",
       "      <th>2</th>\n",
       "      <td>El mio le mande a arreglar</td>\n",
       "      <td>A síii???</td>\n",
       "    </tr>\n",
       "    <tr>\n",
       "      <th>3</th>\n",
       "      <td>Siiii</td>\n",
       "      <td>Muy bien Y cuánto te costó?</td>\n",
       "    </tr>\n",
       "    <tr>\n",
       "      <th>4</th>\n",
       "      <td>30.000 pero lo estoy pagando a plazos</td>\n",
       "      <td>Y quedó bien?</td>\n",
       "    </tr>\n",
       "  </tbody>\n",
       "</table>\n",
       "</div>\n",
       "    <div class=\"colab-df-buttons\">\n",
       "\n",
       "  <div class=\"colab-df-container\">\n",
       "    <button class=\"colab-df-convert\" onclick=\"convertToInteractive('df-79f0a4ab-77e9-46b9-ae06-43e88dd1cfd7')\"\n",
       "            title=\"Convert this dataframe to an interactive table.\"\n",
       "            style=\"display:none;\">\n",
       "\n",
       "  <svg xmlns=\"http://www.w3.org/2000/svg\" height=\"24px\" viewBox=\"0 -960 960 960\">\n",
       "    <path d=\"M120-120v-720h720v720H120Zm60-500h600v-160H180v160Zm220 220h160v-160H400v160Zm0 220h160v-160H400v160ZM180-400h160v-160H180v160Zm440 0h160v-160H620v160ZM180-180h160v-160H180v160Zm440 0h160v-160H620v160Z\"/>\n",
       "  </svg>\n",
       "    </button>\n",
       "\n",
       "  <style>\n",
       "    .colab-df-container {\n",
       "      display:flex;\n",
       "      gap: 12px;\n",
       "    }\n",
       "\n",
       "    .colab-df-convert {\n",
       "      background-color: #E8F0FE;\n",
       "      border: none;\n",
       "      border-radius: 50%;\n",
       "      cursor: pointer;\n",
       "      display: none;\n",
       "      fill: #1967D2;\n",
       "      height: 32px;\n",
       "      padding: 0 0 0 0;\n",
       "      width: 32px;\n",
       "    }\n",
       "\n",
       "    .colab-df-convert:hover {\n",
       "      background-color: #E2EBFA;\n",
       "      box-shadow: 0px 1px 2px rgba(60, 64, 67, 0.3), 0px 1px 3px 1px rgba(60, 64, 67, 0.15);\n",
       "      fill: #174EA6;\n",
       "    }\n",
       "\n",
       "    .colab-df-buttons div {\n",
       "      margin-bottom: 4px;\n",
       "    }\n",
       "\n",
       "    [theme=dark] .colab-df-convert {\n",
       "      background-color: #3B4455;\n",
       "      fill: #D2E3FC;\n",
       "    }\n",
       "\n",
       "    [theme=dark] .colab-df-convert:hover {\n",
       "      background-color: #434B5C;\n",
       "      box-shadow: 0px 1px 3px 1px rgba(0, 0, 0, 0.15);\n",
       "      filter: drop-shadow(0px 1px 2px rgba(0, 0, 0, 0.3));\n",
       "      fill: #FFFFFF;\n",
       "    }\n",
       "  </style>\n",
       "\n",
       "    <script>\n",
       "      const buttonEl =\n",
       "        document.querySelector('#df-79f0a4ab-77e9-46b9-ae06-43e88dd1cfd7 button.colab-df-convert');\n",
       "      buttonEl.style.display =\n",
       "        google.colab.kernel.accessAllowed ? 'block' : 'none';\n",
       "\n",
       "      async function convertToInteractive(key) {\n",
       "        const element = document.querySelector('#df-79f0a4ab-77e9-46b9-ae06-43e88dd1cfd7');\n",
       "        const dataTable =\n",
       "          await google.colab.kernel.invokeFunction('convertToInteractive',\n",
       "                                                    [key], {});\n",
       "        if (!dataTable) return;\n",
       "\n",
       "        const docLinkHtml = 'Like what you see? Visit the ' +\n",
       "          '<a target=\"_blank\" href=https://colab.research.google.com/notebooks/data_table.ipynb>data table notebook</a>'\n",
       "          + ' to learn more about interactive tables.';\n",
       "        element.innerHTML = '';\n",
       "        dataTable['output_type'] = 'display_data';\n",
       "        await google.colab.output.renderOutput(dataTable, element);\n",
       "        const docLink = document.createElement('div');\n",
       "        docLink.innerHTML = docLinkHtml;\n",
       "        element.appendChild(docLink);\n",
       "      }\n",
       "    </script>\n",
       "  </div>\n",
       "\n",
       "\n",
       "    <div id=\"df-8a132439-e9fc-4d27-bfea-ef758ad2ffc2\">\n",
       "      <button class=\"colab-df-quickchart\" onclick=\"quickchart('df-8a132439-e9fc-4d27-bfea-ef758ad2ffc2')\"\n",
       "                title=\"Suggest charts\"\n",
       "                style=\"display:none;\">\n",
       "\n",
       "<svg xmlns=\"http://www.w3.org/2000/svg\" height=\"24px\"viewBox=\"0 0 24 24\"\n",
       "     width=\"24px\">\n",
       "    <g>\n",
       "        <path d=\"M19 3H5c-1.1 0-2 .9-2 2v14c0 1.1.9 2 2 2h14c1.1 0 2-.9 2-2V5c0-1.1-.9-2-2-2zM9 17H7v-7h2v7zm4 0h-2V7h2v10zm4 0h-2v-4h2v4z\"/>\n",
       "    </g>\n",
       "</svg>\n",
       "      </button>\n",
       "\n",
       "<style>\n",
       "  .colab-df-quickchart {\n",
       "      --bg-color: #E8F0FE;\n",
       "      --fill-color: #1967D2;\n",
       "      --hover-bg-color: #E2EBFA;\n",
       "      --hover-fill-color: #174EA6;\n",
       "      --disabled-fill-color: #AAA;\n",
       "      --disabled-bg-color: #DDD;\n",
       "  }\n",
       "\n",
       "  [theme=dark] .colab-df-quickchart {\n",
       "      --bg-color: #3B4455;\n",
       "      --fill-color: #D2E3FC;\n",
       "      --hover-bg-color: #434B5C;\n",
       "      --hover-fill-color: #FFFFFF;\n",
       "      --disabled-bg-color: #3B4455;\n",
       "      --disabled-fill-color: #666;\n",
       "  }\n",
       "\n",
       "  .colab-df-quickchart {\n",
       "    background-color: var(--bg-color);\n",
       "    border: none;\n",
       "    border-radius: 50%;\n",
       "    cursor: pointer;\n",
       "    display: none;\n",
       "    fill: var(--fill-color);\n",
       "    height: 32px;\n",
       "    padding: 0;\n",
       "    width: 32px;\n",
       "  }\n",
       "\n",
       "  .colab-df-quickchart:hover {\n",
       "    background-color: var(--hover-bg-color);\n",
       "    box-shadow: 0 1px 2px rgba(60, 64, 67, 0.3), 0 1px 3px 1px rgba(60, 64, 67, 0.15);\n",
       "    fill: var(--button-hover-fill-color);\n",
       "  }\n",
       "\n",
       "  .colab-df-quickchart-complete:disabled,\n",
       "  .colab-df-quickchart-complete:disabled:hover {\n",
       "    background-color: var(--disabled-bg-color);\n",
       "    fill: var(--disabled-fill-color);\n",
       "    box-shadow: none;\n",
       "  }\n",
       "\n",
       "  .colab-df-spinner {\n",
       "    border: 2px solid var(--fill-color);\n",
       "    border-color: transparent;\n",
       "    border-bottom-color: var(--fill-color);\n",
       "    animation:\n",
       "      spin 1s steps(1) infinite;\n",
       "  }\n",
       "\n",
       "  @keyframes spin {\n",
       "    0% {\n",
       "      border-color: transparent;\n",
       "      border-bottom-color: var(--fill-color);\n",
       "      border-left-color: var(--fill-color);\n",
       "    }\n",
       "    20% {\n",
       "      border-color: transparent;\n",
       "      border-left-color: var(--fill-color);\n",
       "      border-top-color: var(--fill-color);\n",
       "    }\n",
       "    30% {\n",
       "      border-color: transparent;\n",
       "      border-left-color: var(--fill-color);\n",
       "      border-top-color: var(--fill-color);\n",
       "      border-right-color: var(--fill-color);\n",
       "    }\n",
       "    40% {\n",
       "      border-color: transparent;\n",
       "      border-right-color: var(--fill-color);\n",
       "      border-top-color: var(--fill-color);\n",
       "    }\n",
       "    60% {\n",
       "      border-color: transparent;\n",
       "      border-right-color: var(--fill-color);\n",
       "    }\n",
       "    80% {\n",
       "      border-color: transparent;\n",
       "      border-right-color: var(--fill-color);\n",
       "      border-bottom-color: var(--fill-color);\n",
       "    }\n",
       "    90% {\n",
       "      border-color: transparent;\n",
       "      border-bottom-color: var(--fill-color);\n",
       "    }\n",
       "  }\n",
       "</style>\n",
       "\n",
       "      <script>\n",
       "        async function quickchart(key) {\n",
       "          const quickchartButtonEl =\n",
       "            document.querySelector('#' + key + ' button');\n",
       "          quickchartButtonEl.disabled = true;  // To prevent multiple clicks.\n",
       "          quickchartButtonEl.classList.add('colab-df-spinner');\n",
       "          try {\n",
       "            const charts = await google.colab.kernel.invokeFunction(\n",
       "                'suggestCharts', [key], {});\n",
       "          } catch (error) {\n",
       "            console.error('Error during call to suggestCharts:', error);\n",
       "          }\n",
       "          quickchartButtonEl.classList.remove('colab-df-spinner');\n",
       "          quickchartButtonEl.classList.add('colab-df-quickchart-complete');\n",
       "        }\n",
       "        (() => {\n",
       "          let quickchartButtonEl =\n",
       "            document.querySelector('#df-8a132439-e9fc-4d27-bfea-ef758ad2ffc2 button');\n",
       "          quickchartButtonEl.style.display =\n",
       "            google.colab.kernel.accessAllowed ? 'block' : 'none';\n",
       "        })();\n",
       "      </script>\n",
       "    </div>\n",
       "\n",
       "    </div>\n",
       "  </div>\n"
      ],
      "text/plain": [
       "                              input_text                   target_text\n",
       "0                             Hoola Bebe  Hola chiquita Y este número¿\n",
       "1             Este es mi numero anterior     A síii, y que cel tienes?\n",
       "2             El mio le mande a arreglar                     A síii???\n",
       "3                                  Siiii   Muy bien Y cuánto te costó?\n",
       "4  30.000 pero lo estoy pagando a plazos                 Y quedó bien?"
      ]
     },
     "execution_count": 5,
     "metadata": {},
     "output_type": "execute_result"
    }
   ],
   "source": [
    "# Define the “self” user whose replies we want to model\n",
    "self_user = 'Alejandro Castellanos'\n",
    "\n",
    "# Step 1: collapse consecutive messages by the same speaker into dialogue turns\n",
    "parsed_df['turn_id'] = (parsed_df['user'] != parsed_df['user'].shift()).cumsum()\n",
    "\n",
    "turns = (\n",
    "    parsed_df\n",
    "    .groupby('turn_id')\n",
    "    .agg({\n",
    "        'user': 'first',\n",
    "        'message': lambda msgs: ' '.join(msgs)   # join all messages in the turn with a space\n",
    "    })\n",
    "    .reset_index()\n",
    ")\n",
    "\n",
    "# Step 2: select your turns and attach the previous turn as input\n",
    "self_turns = turns[turns['user'] == self_user].copy()\n",
    "self_turns['prev_turn_id'] = self_turns['turn_id'] - 1\n",
    "\n",
    "# Step 3: get the other-person turns\n",
    "other_turns = turns[turns['user'] != self_user][['turn_id', 'message']]\n",
    "\n",
    "# Step 4: merge to form input–target pairs\n",
    "pairs_df = pd.merge(\n",
    "    self_turns,\n",
    "    other_turns,\n",
    "    left_on='prev_turn_id',\n",
    "    right_on='turn_id',\n",
    "    how='inner',\n",
    "    suffixes=('_self', '_other')\n",
    ")\n",
    "\n",
    "# Step 5: keep and rename the columns\n",
    "pairs_df = (\n",
    "    pairs_df\n",
    "    [['message_other', 'message_self']]\n",
    "    .rename(columns={\n",
    "        'message_other': 'input_text',\n",
    "        'message_self':  'target_text'\n",
    "    })\n",
    "    .reset_index(drop=True)\n",
    ")\n",
    "\n",
    "# Inspect the first examples\n",
    "pairs_df.head()"
   ]
  },
  {
   "cell_type": "markdown",
   "id": "Hc4FZW-nCchf",
   "metadata": {
    "id": "Hc4FZW-nCchf"
   },
   "source": [
    "## Tensorflow"
   ]
  },
  {
   "cell_type": "code",
   "execution_count": 6,
   "id": "_AxNv-CjCevt",
   "metadata": {
    "executionInfo": {
     "elapsed": 24,
     "status": "ok",
     "timestamp": 1753389279967,
     "user": {
      "displayName": "Alejandro Castellanos Vargas",
      "userId": "01884862752897243988"
     },
     "user_tz": 300
    },
    "id": "_AxNv-CjCevt"
   },
   "outputs": [],
   "source": [
    "# Prepare raw texts for tokenizer\n",
    "input_texts = pairs_df['input_text'].tolist()\n",
    "\n",
    "# Add start/end tokens to targets\n",
    "target_texts = ['<start> ' + txt + ' <end>' for txt in pairs_df['target_text'].tolist()]"
   ]
  },
  {
   "cell_type": "code",
   "execution_count": 7,
   "id": "DZOyqiIKCiDT",
   "metadata": {
    "colab": {
     "base_uri": "https://localhost:8080/"
    },
    "executionInfo": {
     "elapsed": 1584,
     "status": "ok",
     "timestamp": 1753389281555,
     "user": {
      "displayName": "Alejandro Castellanos Vargas",
      "userId": "01884862752897243988"
     },
     "user_tz": 300
    },
    "id": "DZOyqiIKCiDT",
    "outputId": "531e02d5-8432-4e7a-da2b-14bbf6cd16a8"
   },
   "outputs": [
    {
     "data": {
      "text/plain": [
       "array([[5324,   19,    0, ...,    0,    0,    0],\n",
       "       [ 176,   16,   23, ...,    0,    0,    0],\n",
       "       [  12,  230,   38, ...,    0,    0,    0],\n",
       "       ...,\n",
       "       [   7,  281, 1042, ...,    0,    0,    0],\n",
       "       [  37,   15,   67, ...,    0,    0,    0],\n",
       "       [  27,   53,    4, ...,    0,    0,    0]], dtype=int32)"
      ]
     },
     "execution_count": 7,
     "metadata": {},
     "output_type": "execute_result"
    }
   ],
   "source": [
    "vocab_size = 10000\n",
    "oov_token = '<unk>'\n",
    "\n",
    "# Create and fit input tokenizer\n",
    "input_tokenizer = Tokenizer(num_words=vocab_size, oov_token=oov_token)\n",
    "input_tokenizer.fit_on_texts(input_texts)\n",
    "input_sequences = input_tokenizer.texts_to_sequences(input_texts)\n",
    "max_encoder_len = max(len(seq) for seq in input_sequences)\n",
    "encoder_input_data = pad_sequences(input_sequences, maxlen=max_encoder_len, padding='post')\n",
    "encoder_input_data"
   ]
  },
  {
   "cell_type": "code",
   "execution_count": 8,
   "id": "Dd2LlLhfD6jy",
   "metadata": {
    "colab": {
     "base_uri": "https://localhost:8080/"
    },
    "executionInfo": {
     "elapsed": 1715,
     "status": "ok",
     "timestamp": 1753389283274,
     "user": {
      "displayName": "Alejandro Castellanos Vargas",
      "userId": "01884862752897243988"
     },
     "user_tz": 300
    },
    "id": "Dd2LlLhfD6jy",
    "outputId": "8abf8954-8506-47d8-c9ed-8c9d927c8a37"
   },
   "outputs": [
    {
     "data": {
      "text/plain": [
       "array([[   2,   45,   78, ...,    0,    0,    0],\n",
       "       [   2,    6, 3241, ...,    0,    0,    0],\n",
       "       [   2,    6, 3241, ...,    0,    0,    0],\n",
       "       ...,\n",
       "       [   2,  481,    3, ...,    0,    0,    0],\n",
       "       [   2,  575,   17, ...,    0,    0,    0],\n",
       "       [   2,   34,  168, ...,    0,    0,    0]], dtype=int32)"
      ]
     },
     "execution_count": 8,
     "metadata": {},
     "output_type": "execute_result"
    }
   ],
   "source": [
    "# Create and fit target tokenizer\n",
    "\n",
    "target_tokenizer = Tokenizer(num_words=vocab_size, oov_token=oov_token)\n",
    "target_tokenizer.fit_on_texts(target_texts)\n",
    "target_sequences = target_tokenizer.texts_to_sequences(target_texts)\n",
    "max_decoder_len = max(len(seq) for seq in target_sequences)\n",
    "target_data = pad_sequences(target_sequences, maxlen=max_decoder_len, padding='post')\n",
    "target_data"
   ]
  },
  {
   "cell_type": "code",
   "execution_count": 9,
   "id": "MQvJWLBOEEiJ",
   "metadata": {
    "executionInfo": {
     "elapsed": 9,
     "status": "ok",
     "timestamp": 1753389283279,
     "user": {
      "displayName": "Alejandro Castellanos Vargas",
      "userId": "01884862752897243988"
     },
     "user_tz": 300
    },
    "id": "MQvJWLBOEEiJ"
   },
   "outputs": [],
   "source": [
    "# Split decoder inputs & outputs\n",
    "decoder_input_data  = target_data[:, :-1]\n",
    "decoder_target_data = target_data[:, 1:]"
   ]
  },
  {
   "cell_type": "code",
   "execution_count": 10,
   "id": "Loc3DDK2EJx6",
   "metadata": {
    "executionInfo": {
     "elapsed": 235,
     "status": "ok",
     "timestamp": 1753389283521,
     "user": {
      "displayName": "Alejandro Castellanos Vargas",
      "userId": "01884862752897243988"
     },
     "user_tz": 300
    },
    "id": "Loc3DDK2EJx6"
   },
   "outputs": [],
   "source": [
    "# Train/validation split\n",
    "(enc_in_train, enc_in_val,\n",
    " dec_in_train, dec_in_val,\n",
    " dec_tar_train, dec_tar_val) = train_test_split(\n",
    "    encoder_input_data,\n",
    "    decoder_input_data,\n",
    "    decoder_target_data,\n",
    "    test_size=0.2,\n",
    "    random_state=42\n",
    ")"
   ]
  },
  {
   "cell_type": "code",
   "execution_count": 11,
   "id": "rGkOHxODEUnR",
   "metadata": {
    "colab": {
     "base_uri": "https://localhost:8080/"
    },
    "executionInfo": {
     "elapsed": 1263,
     "status": "ok",
     "timestamp": 1753389284779,
     "user": {
      "displayName": "Alejandro Castellanos Vargas",
      "userId": "01884862752897243988"
     },
     "user_tz": 300
    },
    "id": "rGkOHxODEUnR",
    "outputId": "8ccbb604-e3e3-4e14-e0cf-dc34c669aa6e"
   },
   "outputs": [
    {
     "name": "stdout",
     "output_type": "stream",
     "text": [
      "Encoder input shape: (40581, 941)\n",
      "Decoder input shape: (40581, 1170)\n",
      "Decoder target shape: (40581, 1170)\n"
     ]
    }
   ],
   "source": [
    "# Build tf.data datasets\n",
    "batch_size = 32\n",
    "\n",
    "train_dataset = tf.data.Dataset.from_tensor_slices(\n",
    "    ((enc_in_train, dec_in_train), dec_tar_train)\n",
    ").shuffle(buffer_size=len(enc_in_train)).batch(batch_size, drop_remainder=True)\n",
    "\n",
    "val_dataset = tf.data.Dataset.from_tensor_slices(\n",
    "    ((enc_in_val, dec_in_val), dec_tar_val)\n",
    ").batch(batch_size, drop_remainder=True)\n",
    "\n",
    "# Verify shapes\n",
    "print(\"Encoder input shape:\", enc_in_train.shape)\n",
    "print(\"Decoder input shape:\", dec_in_train.shape)\n",
    "print(\"Decoder target shape:\", dec_tar_train.shape)"
   ]
  },
  {
   "cell_type": "code",
   "execution_count": 12,
   "id": "a6k2643NE7Cq",
   "metadata": {
    "colab": {
     "base_uri": "https://localhost:8080/",
     "height": 573
    },
    "executionInfo": {
     "elapsed": 991,
     "status": "ok",
     "timestamp": 1753389285773,
     "user": {
      "displayName": "Alejandro Castellanos Vargas",
      "userId": "01884862752897243988"
     },
     "user_tz": 300
    },
    "id": "a6k2643NE7Cq",
    "outputId": "72ff792a-82e2-49ae-a634-1548be81709e"
   },
   "outputs": [
    {
     "data": {
      "text/html": [
       "<pre style=\"white-space:pre;overflow-x:auto;line-height:normal;font-family:Menlo,'DejaVu Sans Mono',consolas,'Courier New',monospace\"><span style=\"font-weight: bold\">Model: \"seq2seq_model\"</span>\n",
       "</pre>\n"
      ],
      "text/plain": [
       "\u001b[1mModel: \"seq2seq_model\"\u001b[0m\n"
      ]
     },
     "metadata": {},
     "output_type": "display_data"
    },
    {
     "data": {
      "text/html": [
       "<pre style=\"white-space:pre;overflow-x:auto;line-height:normal;font-family:Menlo,'DejaVu Sans Mono',consolas,'Courier New',monospace\">┏━━━━━━━━━━━━━━━━━━━━━┳━━━━━━━━━━━━━━━━━━━┳━━━━━━━━━━━━┳━━━━━━━━━━━━━━━━━━━┓\n",
       "┃<span style=\"font-weight: bold\"> Layer (type)        </span>┃<span style=\"font-weight: bold\"> Output Shape      </span>┃<span style=\"font-weight: bold\">    Param # </span>┃<span style=\"font-weight: bold\"> Connected to      </span>┃\n",
       "┡━━━━━━━━━━━━━━━━━━━━━╇━━━━━━━━━━━━━━━━━━━╇━━━━━━━━━━━━╇━━━━━━━━━━━━━━━━━━━┩\n",
       "│ encoder_inputs      │ (<span style=\"color: #00d7ff; text-decoration-color: #00d7ff\">None</span>, <span style=\"color: #00d7ff; text-decoration-color: #00d7ff\">None</span>)      │          <span style=\"color: #00af00; text-decoration-color: #00af00\">0</span> │ -                 │\n",
       "│ (<span style=\"color: #0087ff; text-decoration-color: #0087ff\">InputLayer</span>)        │                   │            │                   │\n",
       "├─────────────────────┼───────────────────┼────────────┼───────────────────┤\n",
       "│ decoder_inputs      │ (<span style=\"color: #00d7ff; text-decoration-color: #00d7ff\">None</span>, <span style=\"color: #00d7ff; text-decoration-color: #00d7ff\">None</span>)      │          <span style=\"color: #00af00; text-decoration-color: #00af00\">0</span> │ -                 │\n",
       "│ (<span style=\"color: #0087ff; text-decoration-color: #0087ff\">InputLayer</span>)        │                   │            │                   │\n",
       "├─────────────────────┼───────────────────┼────────────┼───────────────────┤\n",
       "│ encoder_embedding   │ (<span style=\"color: #00d7ff; text-decoration-color: #00d7ff\">None</span>, <span style=\"color: #00d7ff; text-decoration-color: #00d7ff\">None</span>, <span style=\"color: #00af00; text-decoration-color: #00af00\">128</span>) │  <span style=\"color: #00af00; text-decoration-color: #00af00\">1,280,000</span> │ encoder_inputs[<span style=\"color: #00af00; text-decoration-color: #00af00\">0</span>… │\n",
       "│ (<span style=\"color: #0087ff; text-decoration-color: #0087ff\">Embedding</span>)         │                   │            │                   │\n",
       "├─────────────────────┼───────────────────┼────────────┼───────────────────┤\n",
       "│ not_equal           │ (<span style=\"color: #00d7ff; text-decoration-color: #00d7ff\">None</span>, <span style=\"color: #00d7ff; text-decoration-color: #00d7ff\">None</span>)      │          <span style=\"color: #00af00; text-decoration-color: #00af00\">0</span> │ encoder_inputs[<span style=\"color: #00af00; text-decoration-color: #00af00\">0</span>… │\n",
       "│ (<span style=\"color: #0087ff; text-decoration-color: #0087ff\">NotEqual</span>)          │                   │            │                   │\n",
       "├─────────────────────┼───────────────────┼────────────┼───────────────────┤\n",
       "│ decoder_embedding   │ (<span style=\"color: #00d7ff; text-decoration-color: #00d7ff\">None</span>, <span style=\"color: #00d7ff; text-decoration-color: #00d7ff\">None</span>, <span style=\"color: #00af00; text-decoration-color: #00af00\">128</span>) │  <span style=\"color: #00af00; text-decoration-color: #00af00\">1,280,000</span> │ decoder_inputs[<span style=\"color: #00af00; text-decoration-color: #00af00\">0</span>… │\n",
       "│ (<span style=\"color: #0087ff; text-decoration-color: #0087ff\">Embedding</span>)         │                   │            │                   │\n",
       "├─────────────────────┼───────────────────┼────────────┼───────────────────┤\n",
       "│ encoder_lstm (<span style=\"color: #0087ff; text-decoration-color: #0087ff\">LSTM</span>) │ [(<span style=\"color: #00d7ff; text-decoration-color: #00d7ff\">None</span>, <span style=\"color: #00af00; text-decoration-color: #00af00\">256</span>),     │    <span style=\"color: #00af00; text-decoration-color: #00af00\">394,240</span> │ encoder_embeddin… │\n",
       "│                     │ (<span style=\"color: #00d7ff; text-decoration-color: #00d7ff\">None</span>, <span style=\"color: #00af00; text-decoration-color: #00af00\">256</span>),      │            │ not_equal[<span style=\"color: #00af00; text-decoration-color: #00af00\">0</span>][<span style=\"color: #00af00; text-decoration-color: #00af00\">0</span>]   │\n",
       "│                     │ (<span style=\"color: #00d7ff; text-decoration-color: #00d7ff\">None</span>, <span style=\"color: #00af00; text-decoration-color: #00af00\">256</span>)]      │            │                   │\n",
       "├─────────────────────┼───────────────────┼────────────┼───────────────────┤\n",
       "│ decoder_lstm (<span style=\"color: #0087ff; text-decoration-color: #0087ff\">LSTM</span>) │ [(<span style=\"color: #00d7ff; text-decoration-color: #00d7ff\">None</span>, <span style=\"color: #00d7ff; text-decoration-color: #00d7ff\">None</span>,     │    <span style=\"color: #00af00; text-decoration-color: #00af00\">394,240</span> │ decoder_embeddin… │\n",
       "│                     │ <span style=\"color: #00af00; text-decoration-color: #00af00\">256</span>), (<span style=\"color: #00d7ff; text-decoration-color: #00d7ff\">None</span>,      │            │ encoder_lstm[<span style=\"color: #00af00; text-decoration-color: #00af00\">0</span>][<span style=\"color: #00af00; text-decoration-color: #00af00\">…</span> │\n",
       "│                     │ <span style=\"color: #00af00; text-decoration-color: #00af00\">256</span>), (<span style=\"color: #00d7ff; text-decoration-color: #00d7ff\">None</span>,      │            │ encoder_lstm[<span style=\"color: #00af00; text-decoration-color: #00af00\">0</span>][<span style=\"color: #00af00; text-decoration-color: #00af00\">…</span> │\n",
       "│                     │ <span style=\"color: #00af00; text-decoration-color: #00af00\">256</span>)]             │            │                   │\n",
       "├─────────────────────┼───────────────────┼────────────┼───────────────────┤\n",
       "│ decoder_dense       │ (<span style=\"color: #00d7ff; text-decoration-color: #00d7ff\">None</span>, <span style=\"color: #00d7ff; text-decoration-color: #00d7ff\">None</span>,      │  <span style=\"color: #00af00; text-decoration-color: #00af00\">2,570,000</span> │ decoder_lstm[<span style=\"color: #00af00; text-decoration-color: #00af00\">0</span>][<span style=\"color: #00af00; text-decoration-color: #00af00\">…</span> │\n",
       "│ (<span style=\"color: #0087ff; text-decoration-color: #0087ff\">Dense</span>)             │ <span style=\"color: #00af00; text-decoration-color: #00af00\">10000</span>)            │            │                   │\n",
       "└─────────────────────┴───────────────────┴────────────┴───────────────────┘\n",
       "</pre>\n"
      ],
      "text/plain": [
       "┏━━━━━━━━━━━━━━━━━━━━━┳━━━━━━━━━━━━━━━━━━━┳━━━━━━━━━━━━┳━━━━━━━━━━━━━━━━━━━┓\n",
       "┃\u001b[1m \u001b[0m\u001b[1mLayer (type)       \u001b[0m\u001b[1m \u001b[0m┃\u001b[1m \u001b[0m\u001b[1mOutput Shape     \u001b[0m\u001b[1m \u001b[0m┃\u001b[1m \u001b[0m\u001b[1m   Param #\u001b[0m\u001b[1m \u001b[0m┃\u001b[1m \u001b[0m\u001b[1mConnected to     \u001b[0m\u001b[1m \u001b[0m┃\n",
       "┡━━━━━━━━━━━━━━━━━━━━━╇━━━━━━━━━━━━━━━━━━━╇━━━━━━━━━━━━╇━━━━━━━━━━━━━━━━━━━┩\n",
       "│ encoder_inputs      │ (\u001b[38;5;45mNone\u001b[0m, \u001b[38;5;45mNone\u001b[0m)      │          \u001b[38;5;34m0\u001b[0m │ -                 │\n",
       "│ (\u001b[38;5;33mInputLayer\u001b[0m)        │                   │            │                   │\n",
       "├─────────────────────┼───────────────────┼────────────┼───────────────────┤\n",
       "│ decoder_inputs      │ (\u001b[38;5;45mNone\u001b[0m, \u001b[38;5;45mNone\u001b[0m)      │          \u001b[38;5;34m0\u001b[0m │ -                 │\n",
       "│ (\u001b[38;5;33mInputLayer\u001b[0m)        │                   │            │                   │\n",
       "├─────────────────────┼───────────────────┼────────────┼───────────────────┤\n",
       "│ encoder_embedding   │ (\u001b[38;5;45mNone\u001b[0m, \u001b[38;5;45mNone\u001b[0m, \u001b[38;5;34m128\u001b[0m) │  \u001b[38;5;34m1,280,000\u001b[0m │ encoder_inputs[\u001b[38;5;34m0\u001b[0m… │\n",
       "│ (\u001b[38;5;33mEmbedding\u001b[0m)         │                   │            │                   │\n",
       "├─────────────────────┼───────────────────┼────────────┼───────────────────┤\n",
       "│ not_equal           │ (\u001b[38;5;45mNone\u001b[0m, \u001b[38;5;45mNone\u001b[0m)      │          \u001b[38;5;34m0\u001b[0m │ encoder_inputs[\u001b[38;5;34m0\u001b[0m… │\n",
       "│ (\u001b[38;5;33mNotEqual\u001b[0m)          │                   │            │                   │\n",
       "├─────────────────────┼───────────────────┼────────────┼───────────────────┤\n",
       "│ decoder_embedding   │ (\u001b[38;5;45mNone\u001b[0m, \u001b[38;5;45mNone\u001b[0m, \u001b[38;5;34m128\u001b[0m) │  \u001b[38;5;34m1,280,000\u001b[0m │ decoder_inputs[\u001b[38;5;34m0\u001b[0m… │\n",
       "│ (\u001b[38;5;33mEmbedding\u001b[0m)         │                   │            │                   │\n",
       "├─────────────────────┼───────────────────┼────────────┼───────────────────┤\n",
       "│ encoder_lstm (\u001b[38;5;33mLSTM\u001b[0m) │ [(\u001b[38;5;45mNone\u001b[0m, \u001b[38;5;34m256\u001b[0m),     │    \u001b[38;5;34m394,240\u001b[0m │ encoder_embeddin… │\n",
       "│                     │ (\u001b[38;5;45mNone\u001b[0m, \u001b[38;5;34m256\u001b[0m),      │            │ not_equal[\u001b[38;5;34m0\u001b[0m][\u001b[38;5;34m0\u001b[0m]   │\n",
       "│                     │ (\u001b[38;5;45mNone\u001b[0m, \u001b[38;5;34m256\u001b[0m)]      │            │                   │\n",
       "├─────────────────────┼───────────────────┼────────────┼───────────────────┤\n",
       "│ decoder_lstm (\u001b[38;5;33mLSTM\u001b[0m) │ [(\u001b[38;5;45mNone\u001b[0m, \u001b[38;5;45mNone\u001b[0m,     │    \u001b[38;5;34m394,240\u001b[0m │ decoder_embeddin… │\n",
       "│                     │ \u001b[38;5;34m256\u001b[0m), (\u001b[38;5;45mNone\u001b[0m,      │            │ encoder_lstm[\u001b[38;5;34m0\u001b[0m][\u001b[38;5;34m…\u001b[0m │\n",
       "│                     │ \u001b[38;5;34m256\u001b[0m), (\u001b[38;5;45mNone\u001b[0m,      │            │ encoder_lstm[\u001b[38;5;34m0\u001b[0m][\u001b[38;5;34m…\u001b[0m │\n",
       "│                     │ \u001b[38;5;34m256\u001b[0m)]             │            │                   │\n",
       "├─────────────────────┼───────────────────┼────────────┼───────────────────┤\n",
       "│ decoder_dense       │ (\u001b[38;5;45mNone\u001b[0m, \u001b[38;5;45mNone\u001b[0m,      │  \u001b[38;5;34m2,570,000\u001b[0m │ decoder_lstm[\u001b[38;5;34m0\u001b[0m][\u001b[38;5;34m…\u001b[0m │\n",
       "│ (\u001b[38;5;33mDense\u001b[0m)             │ \u001b[38;5;34m10000\u001b[0m)            │            │                   │\n",
       "└─────────────────────┴───────────────────┴────────────┴───────────────────┘\n"
      ]
     },
     "metadata": {},
     "output_type": "display_data"
    },
    {
     "data": {
      "text/html": [
       "<pre style=\"white-space:pre;overflow-x:auto;line-height:normal;font-family:Menlo,'DejaVu Sans Mono',consolas,'Courier New',monospace\"><span style=\"font-weight: bold\"> Total params: </span><span style=\"color: #00af00; text-decoration-color: #00af00\">5,918,480</span> (22.58 MB)\n",
       "</pre>\n"
      ],
      "text/plain": [
       "\u001b[1m Total params: \u001b[0m\u001b[38;5;34m5,918,480\u001b[0m (22.58 MB)\n"
      ]
     },
     "metadata": {},
     "output_type": "display_data"
    },
    {
     "data": {
      "text/html": [
       "<pre style=\"white-space:pre;overflow-x:auto;line-height:normal;font-family:Menlo,'DejaVu Sans Mono',consolas,'Courier New',monospace\"><span style=\"font-weight: bold\"> Trainable params: </span><span style=\"color: #00af00; text-decoration-color: #00af00\">5,918,480</span> (22.58 MB)\n",
       "</pre>\n"
      ],
      "text/plain": [
       "\u001b[1m Trainable params: \u001b[0m\u001b[38;5;34m5,918,480\u001b[0m (22.58 MB)\n"
      ]
     },
     "metadata": {},
     "output_type": "display_data"
    },
    {
     "data": {
      "text/html": [
       "<pre style=\"white-space:pre;overflow-x:auto;line-height:normal;font-family:Menlo,'DejaVu Sans Mono',consolas,'Courier New',monospace\"><span style=\"font-weight: bold\"> Non-trainable params: </span><span style=\"color: #00af00; text-decoration-color: #00af00\">0</span> (0.00 B)\n",
       "</pre>\n"
      ],
      "text/plain": [
       "\u001b[1m Non-trainable params: \u001b[0m\u001b[38;5;34m0\u001b[0m (0.00 B)\n"
      ]
     },
     "metadata": {},
     "output_type": "display_data"
    }
   ],
   "source": [
    "# Hyperparameters\n",
    "vocab_size    = 10000    # must match num_words in Tokenizer\n",
    "embedding_dim = int(256/2)\n",
    "lstm_units    = int(512/2)\n",
    "\n",
    "# ----- Encoder -----\n",
    "# encoder_inputs: sequences of token IDs (padded)\n",
    "encoder_inputs = Input(shape=(None,), name='encoder_inputs')\n",
    "\n",
    "# encoder_embedding: map token IDs → dense vectors\n",
    "encoder_embedding = Embedding(\n",
    "    input_dim=vocab_size,\n",
    "    output_dim=embedding_dim,\n",
    "    mask_zero=True,       # ignore padding token (0) in the LSTM\n",
    "    name='encoder_embedding'\n",
    ")(encoder_inputs)\n",
    "\n",
    "# encoder_lstm: return the hidden & cell state\n",
    "encoder_outputs, state_h, state_c = LSTM(\n",
    "    lstm_units,\n",
    "    return_state=True,\n",
    "    name='encoder_lstm'\n",
    ")(encoder_embedding)\n",
    "\n",
    "# keep only the states (we don’t need encoder_outputs)\n",
    "encoder_states = [state_h, state_c]\n",
    "\n",
    "# ----- Decoder -----\n",
    "# decoder_inputs: teacher-forced target sequences (shifted right, without <end>)\n",
    "decoder_inputs = Input(shape=(None,), name='decoder_inputs')\n",
    "\n",
    "# decoder_embedding: separate embedding layer for the decoder\n",
    "decoder_embedding = Embedding(\n",
    "    input_dim=vocab_size,\n",
    "    output_dim=embedding_dim,\n",
    "    mask_zero=True,\n",
    "    name='decoder_embedding'\n",
    ")(decoder_inputs)\n",
    "\n",
    "# decoder_lstm: return full sequence + states\n",
    "decoder_lstm = LSTM(\n",
    "    lstm_units,\n",
    "    return_sequences=True,\n",
    "    return_state=True,\n",
    "    name='decoder_lstm'\n",
    ")\n",
    "decoder_outputs, _, _ = decoder_lstm(\n",
    "    decoder_embedding,\n",
    "    initial_state=encoder_states\n",
    ")\n",
    "\n",
    "# dense layer to generate probability over the vocabulary\n",
    "decoder_dense = Dense(\n",
    "    vocab_size,\n",
    "    activation='softmax',\n",
    "    name='decoder_dense'\n",
    ")\n",
    "decoder_outputs = decoder_dense(decoder_outputs)\n",
    "\n",
    "# ----- Define & compile model -----\n",
    "model = Model(\n",
    "    inputs=[encoder_inputs, decoder_inputs],\n",
    "    outputs=decoder_outputs,\n",
    "    name='seq2seq_model'\n",
    ")\n",
    "\n",
    "model.compile(\n",
    "    optimizer='rmsprop',\n",
    "    loss='sparse_categorical_crossentropy',\n",
    "    metrics=['accuracy']\n",
    ")\n",
    "\n",
    "# Show the model’s architecture\n",
    "model.summary()"
   ]
  },
  {
   "cell_type": "code",
   "execution_count": 13,
   "id": "jbmv0ihbGd3z",
   "metadata": {
    "colab": {
     "base_uri": "https://localhost:8080/"
    },
    "executionInfo": {
     "elapsed": 3669383,
     "status": "ok",
     "timestamp": 1753392955157,
     "user": {
      "displayName": "Alejandro Castellanos Vargas",
      "userId": "01884862752897243988"
     },
     "user_tz": 300
    },
    "id": "jbmv0ihbGd3z",
    "outputId": "1d7faafb-b030-4ad6-cc2e-bb047ff85ead"
   },
   "outputs": [
    {
     "name": "stdout",
     "output_type": "stream",
     "text": [
      "Epoch 1/5\n",
      "\u001b[1m1269/1269\u001b[0m \u001b[32m━━━━━━━━━━━━━━━━━━━━\u001b[0m\u001b[37m\u001b[0m \u001b[1m725s\u001b[0m 556ms/step - accuracy: 0.3946 - loss: 6.0176 - val_accuracy: 0.0019 - val_loss: 5.2498\n",
      "Epoch 2/5\n",
      "\u001b[1m1269/1269\u001b[0m \u001b[32m━━━━━━━━━━━━━━━━━━━━\u001b[0m\u001b[37m\u001b[0m \u001b[1m719s\u001b[0m 551ms/step - accuracy: 0.0020 - loss: 5.1571 - val_accuracy: 0.0021 - val_loss: 4.9743\n",
      "Epoch 3/5\n",
      "\u001b[1m1269/1269\u001b[0m \u001b[32m━━━━━━━━━━━━━━━━━━━━\u001b[0m\u001b[37m\u001b[0m \u001b[1m741s\u001b[0m 550ms/step - accuracy: 0.0022 - loss: 4.8967 - val_accuracy: 0.0023 - val_loss: 4.8218\n",
      "Epoch 4/5\n",
      "\u001b[1m1269/1269\u001b[0m \u001b[32m━━━━━━━━━━━━━━━━━━━━\u001b[0m\u001b[37m\u001b[0m \u001b[1m742s\u001b[0m 551ms/step - accuracy: 0.0023 - loss: 4.7178 - val_accuracy: 0.0024 - val_loss: 4.6826\n",
      "Epoch 5/5\n",
      "\u001b[1m1269/1269\u001b[0m \u001b[32m━━━━━━━━━━━━━━━━━━━━\u001b[0m\u001b[37m\u001b[0m \u001b[1m741s\u001b[0m 550ms/step - accuracy: 0.0024 - loss: 4.6112 - val_accuracy: 0.0025 - val_loss: 4.5927\n"
     ]
    }
   ],
   "source": [
    "# Train the seq2seq model\n",
    "epochs = 5 # few epochs for faster demonstration\n",
    "\n",
    "history = model.fit(\n",
    "    x=[enc_in_train, dec_in_train],   # encoder inputs & decoder inputs\n",
    "    y=dec_tar_train,                  # decoder target outputs\n",
    "    batch_size=batch_size,\n",
    "    epochs=epochs,\n",
    "    validation_data=([enc_in_val, dec_in_val], dec_tar_val)\n",
    ")"
   ]
  },
  {
   "cell_type": "code",
   "execution_count": 16,
   "id": "AeIYlGKAX3za",
   "metadata": {
    "colab": {
     "base_uri": "https://localhost:8080/"
    },
    "executionInfo": {
     "elapsed": 13,
     "status": "ok",
     "timestamp": 1753393236189,
     "user": {
      "displayName": "Alejandro Castellanos Vargas",
      "userId": "01884862752897243988"
     },
     "user_tz": 300
    },
    "id": "AeIYlGKAX3za",
    "outputId": "51fd10ff-390f-4677-ab62-c6365064064f"
   },
   "outputs": [
    {
     "name": "stdout",
     "output_type": "stream",
     "text": [
      "Perplexity de validación: 98.76\n"
     ]
    }
   ],
   "source": [
    "val_loss = history.history['val_loss'][-1]\n",
    "perplexity = np.exp(val_loss)\n",
    "print(f\"Perplexity de validación: {perplexity:.2f}\")"
   ]
  },
  {
   "cell_type": "code",
   "execution_count": 26,
   "id": "YZAPdBRzaaCZ",
   "metadata": {
    "colab": {
     "base_uri": "https://localhost:8080/"
    },
    "executionInfo": {
     "elapsed": 1559,
     "status": "ok",
     "timestamp": 1753393944951,
     "user": {
      "displayName": "Alejandro Castellanos Vargas",
      "userId": "01884862752897243988"
     },
     "user_tz": 300
    },
    "id": "YZAPdBRzaaCZ",
    "outputId": "e2f383ba-041a-4958-9958-d205e1374ae8"
   },
   "outputs": [
    {
     "name": "stdout",
     "output_type": "stream",
     "text": [
      "\u001b[1m1/1\u001b[0m \u001b[32m━━━━━━━━━━━━━━━━━━━━\u001b[0m\u001b[37m\u001b[0m \u001b[1m1s\u001b[0m 588ms/step\n",
      "\u001b[1m1/1\u001b[0m \u001b[32m━━━━━━━━━━━━━━━━━━━━\u001b[0m\u001b[37m\u001b[0m \u001b[1m1s\u001b[0m 605ms/step\n",
      "\u001b[1m1/1\u001b[0m \u001b[32m━━━━━━━━━━━━━━━━━━━━\u001b[0m\u001b[37m\u001b[0m \u001b[1m0s\u001b[0m 68ms/step\n",
      "Input text:    está se parece a lina castellanos\n",
      "Decoded reply: bueno\n"
     ]
    }
   ],
   "source": [
    "# ----- 1. Encoder inference model -----\n",
    "# This model maps an input sequence to its final LSTM states [h, c].\n",
    "encoder_model = tf.keras.Model(\n",
    "    inputs=encoder_inputs,     # original encoder Input layer\n",
    "    outputs=encoder_states     # [state_h, state_c] from encoder LSTM\n",
    ")\n",
    "\n",
    "# ----- 2. Decoder inference model -----\n",
    "# Define placeholders for one time-step input and decoder LSTM states.\n",
    "decoder_state_input_h = Input(shape=(lstm_units,), name='decoder_state_input_h')\n",
    "decoder_state_input_c = Input(shape=(lstm_units,), name='decoder_state_input_c')\n",
    "decoder_inputs_inf   = Input(shape=(1,),        name='decoder_inputs_inf')\n",
    "\n",
    "# Reuse layers from the trained model\n",
    "decoder_embedding_layer = model.get_layer('decoder_embedding')\n",
    "decoder_lstm_layer      = model.get_layer('decoder_lstm')\n",
    "decoder_dense_layer     = model.get_layer('decoder_dense')\n",
    "\n",
    "# Embed the single input token\n",
    "decoder_embedded_inf = decoder_embedding_layer(decoder_inputs_inf)\n",
    "\n",
    "# Run one step of LSTM, conditioned on previous states\n",
    "decoder_outputs_inf, state_h_inf, state_c_inf = decoder_lstm_layer(\n",
    "    decoder_embedded_inf,\n",
    "    initial_state=[decoder_state_input_h, decoder_state_input_c]\n",
    ")\n",
    "\n",
    "# Compute probability distribution over the vocabulary\n",
    "decoder_probs_inf = decoder_dense_layer(decoder_outputs_inf)\n",
    "\n",
    "# Assemble the decoder inference model\n",
    "decoder_model = tf.keras.Model(\n",
    "    inputs=[decoder_inputs_inf, decoder_state_input_h, decoder_state_input_c],\n",
    "    outputs=[decoder_probs_inf, state_h_inf, state_c_inf],\n",
    "    name='decoder_inference'\n",
    ")\n",
    "\n",
    "# ----- 3. Build reverse lookup dictionaries -----\n",
    "inverse_input_token_index  = {v: k for k, v in input_tokenizer.word_index.items()  if v < vocab_size}\n",
    "inverse_target_token_index = {v: k for k, v in target_tokenizer.word_index.items() if v < vocab_size}\n",
    "\n",
    "# ----- 4. Decoding function -----\n",
    "def decode_sequence(input_seq):\n",
    "    \"\"\"\n",
    "    Given an input sequence, encode it to state vectors,\n",
    "    then decode token-by-token until 'end' token is produced.\n",
    "    \"\"\"\n",
    "    # 4.1 Encode the input as state vectors\n",
    "    states_value = encoder_model.predict(input_seq)\n",
    "\n",
    "    # 4.2 Initialize target sequence with the 'start' token\n",
    "    start_idx = target_tokenizer.word_index['start']\n",
    "    target_seq = np.array([[start_idx]])\n",
    "\n",
    "    decoded_tokens = []\n",
    "    while True:\n",
    "        # 4.3 Predict next token probabilities & new states\n",
    "        output_tokens, h, c = decoder_model.predict([target_seq] + states_value)\n",
    "\n",
    "        # 4.4 Select the token with highest probability\n",
    "        sampled_token_index = np.argmax(output_tokens[0, -1, :])\n",
    "        sampled_word = inverse_target_token_index.get(sampled_token_index, '<unk>')\n",
    "\n",
    "        # 4.5 Check for end-of-sequence or maximum length\n",
    "        if sampled_word == 'end' or len(decoded_tokens) > max_decoder_len:\n",
    "            break\n",
    "\n",
    "        # 4.6 Append the sampled word to the output\n",
    "        decoded_tokens.append(sampled_word)\n",
    "\n",
    "        # 4.7 Update the target sequence and states for the next step\n",
    "        target_seq = np.array([[sampled_token_index]])\n",
    "        states_value = [h, c]\n",
    "\n",
    "    return ' '.join(decoded_tokens)\n",
    "\n",
    "# ----- 5. Example inference -----\n",
    "# Take the first validation example\n",
    "sample_input = enc_in_val[0:1]\n",
    "\n",
    "# Decode it to a reply\n",
    "decoded_reply = decode_sequence(sample_input)\n",
    "\n",
    "# Convert the input back to words (skip padding zeros)\n",
    "input_text = ' '.join(\n",
    "    [inverse_input_token_index[idx] for idx in sample_input[0] if idx != 0]\n",
    ")\n",
    "\n",
    "print(\"Input text:   \", input_text)\n",
    "print(\"Decoded reply:\", decoded_reply)"
   ]
  },
  {
   "cell_type": "code",
   "execution_count": 33,
   "id": "9_D_KvtPb8kh",
   "metadata": {
    "colab": {
     "base_uri": "https://localhost:8080/"
    },
    "executionInfo": {
     "elapsed": 54668,
     "status": "ok",
     "timestamp": 1753394850330,
     "user": {
      "displayName": "Alejandro Castellanos Vargas",
      "userId": "01884862752897243988"
     },
     "user_tz": 300
    },
    "id": "9_D_KvtPb8kh",
    "outputId": "efa6f0d8-c6e1-469e-c10f-2301718163e9"
   },
   "outputs": [
    {
     "name": "stdout",
     "output_type": "stream",
     "text": [
      "Chatbot is ready! Type 'exit' or 'quit' to stop.\n",
      "Linda: Me voy\n",
      "\u001b[1m1/1\u001b[0m \u001b[32m━━━━━━━━━━━━━━━━━━━━\u001b[0m\u001b[37m\u001b[0m \u001b[1m0s\u001b[0m 31ms/step\n",
      "\u001b[1m1/1\u001b[0m \u001b[32m━━━━━━━━━━━━━━━━━━━━\u001b[0m\u001b[37m\u001b[0m \u001b[1m0s\u001b[0m 47ms/step\n",
      "\u001b[1m1/1\u001b[0m \u001b[32m━━━━━━━━━━━━━━━━━━━━\u001b[0m\u001b[37m\u001b[0m \u001b[1m0s\u001b[0m 35ms/step\n",
      "\u001b[1m1/1\u001b[0m \u001b[32m━━━━━━━━━━━━━━━━━━━━\u001b[0m\u001b[37m\u001b[0m \u001b[1m0s\u001b[0m 36ms/step\n",
      "Alejo_Bot: cómo vas\n",
      "Linda: bien y tu?\n",
      "\u001b[1m1/1\u001b[0m \u001b[32m━━━━━━━━━━━━━━━━━━━━\u001b[0m\u001b[37m\u001b[0m \u001b[1m0s\u001b[0m 33ms/step\n",
      "\u001b[1m1/1\u001b[0m \u001b[32m━━━━━━━━━━━━━━━━━━━━\u001b[0m\u001b[37m\u001b[0m \u001b[1m0s\u001b[0m 34ms/step\n",
      "\u001b[1m1/1\u001b[0m \u001b[32m━━━━━━━━━━━━━━━━━━━━\u001b[0m\u001b[37m\u001b[0m \u001b[1m0s\u001b[0m 33ms/step\n",
      "\u001b[1m1/1\u001b[0m \u001b[32m━━━━━━━━━━━━━━━━━━━━\u001b[0m\u001b[37m\u001b[0m \u001b[1m0s\u001b[0m 34ms/step\n",
      "\u001b[1m1/1\u001b[0m \u001b[32m━━━━━━━━━━━━━━━━━━━━\u001b[0m\u001b[37m\u001b[0m \u001b[1m0s\u001b[0m 33ms/step\n",
      "\u001b[1m1/1\u001b[0m \u001b[32m━━━━━━━━━━━━━━━━━━━━\u001b[0m\u001b[37m\u001b[0m \u001b[1m0s\u001b[0m 34ms/step\n",
      "Alejo_Bot: bien chiquita cómo estás\n",
      "Linda: Hola Bebe\n",
      "\u001b[1m1/1\u001b[0m \u001b[32m━━━━━━━━━━━━━━━━━━━━\u001b[0m\u001b[37m\u001b[0m \u001b[1m0s\u001b[0m 49ms/step\n",
      "\u001b[1m1/1\u001b[0m \u001b[32m━━━━━━━━━━━━━━━━━━━━\u001b[0m\u001b[37m\u001b[0m \u001b[1m0s\u001b[0m 46ms/step\n",
      "\u001b[1m1/1\u001b[0m \u001b[32m━━━━━━━━━━━━━━━━━━━━\u001b[0m\u001b[37m\u001b[0m \u001b[1m0s\u001b[0m 48ms/step\n",
      "\u001b[1m1/1\u001b[0m \u001b[32m━━━━━━━━━━━━━━━━━━━━\u001b[0m\u001b[37m\u001b[0m \u001b[1m0s\u001b[0m 51ms/step\n",
      "Alejo_Bot: cómo vas\n",
      "Linda: exit\n",
      "Alejo_Bot: Adios!\n"
     ]
    }
   ],
   "source": [
    "def chat():\n",
    "    \"\"\"\n",
    "    Start an interactive session where the user can input messages\n",
    "    and the chatbot (trained seq2seq model) responds.\n",
    "    Type 'exit' or 'quit' to end the session.\n",
    "    \"\"\"\n",
    "    print(\"Chatbot is ready! Type 'exit' or 'quit' to stop.\")\n",
    "    while True:\n",
    "        # Read user input\n",
    "        user_input = input(\"Linda: \")\n",
    "        if user_input.lower() in ('exit', 'quit'):\n",
    "            print(\"Alejo_Bot: Adios!\")\n",
    "            break\n",
    "\n",
    "        # Tokenize and pad the user input\n",
    "        seq = input_tokenizer.texts_to_sequences([user_input])\n",
    "        padded_seq = pad_sequences(seq, maxlen=max_encoder_len, padding='post')\n",
    "\n",
    "        # Generate chatbot reply\n",
    "        reply = decode_sequence(padded_seq)\n",
    "\n",
    "        # Display the chatbot response\n",
    "        print(\"Alejo_Bot:\", reply)\n",
    "\n",
    "# Launch the chat interface\n",
    "chat()"
   ]
  }
 ],
 "metadata": {
  "accelerator": "GPU",
  "colab": {
   "gpuType": "T4",
   "provenance": []
  },
  "kernelspec": {
   "display_name": "Python 3 (ipykernel)",
   "language": "python",
   "name": "python3"
  },
  "language_info": {
   "codemirror_mode": {
    "name": "ipython",
    "version": 3
   },
   "file_extension": ".py",
   "mimetype": "text/x-python",
   "name": "python",
   "nbconvert_exporter": "python",
   "pygments_lexer": "ipython3",
   "version": "3.12.4"
  }
 },
 "nbformat": 4,
 "nbformat_minor": 5
}
